{
 "cells": [
  {
   "attachments": {},
   "cell_type": "markdown",
   "id": "68667024",
   "metadata": {},
   "source": [
    "# Example reading PALEO netcdf output using python xarray\n",
    "\n",
    "Generate file 'test.nc' with:\n",
    "\n",
    "    julia> include(\"PALEO_examples_shelf1D_P_O2.jl\")\n",
    "    julia> PALEOmodel.OutputWriters.save_netcdf(paleorun.output, \"test.nc\")"
   ]
  },
  {
   "cell_type": "code",
   "execution_count": null,
   "id": "d640c5a0",
   "metadata": {},
   "outputs": [],
   "source": [
    "import os"
   ]
  },
  {
   "cell_type": "code",
   "execution_count": null,
   "id": "c9a1bd15",
   "metadata": {},
   "outputs": [],
   "source": [
    "import numpy as np\n",
    "import pandas as pd\n",
    "import xarray as xr"
   ]
  },
  {
   "cell_type": "code",
   "execution_count": null,
   "id": "a5ddcd9d",
   "metadata": {},
   "outputs": [],
   "source": [
    "os.getcwd()"
   ]
  },
  {
   "cell_type": "code",
   "execution_count": null,
   "id": "401e5aef",
   "metadata": {},
   "outputs": [],
   "source": [
    "# read top-level dataset\n",
    "ds = xr.open_dataset(\"test.nc\")\n",
    "ds.attrs"
   ]
  },
  {
   "cell_type": "code",
   "execution_count": null,
   "id": "4b80a015",
   "metadata": {},
   "outputs": [],
   "source": [
    "# read ocean group (= PALEO Domain ocean) from netcdf file\n",
    "ds_ocean = xr.open_dataset(\"test.nc\", group=\"ocean\")\n",
    "\n",
    "# attach z coordinates (this is not automatic!)\n",
    "ds_ocean = ds_ocean.set_coords([\"zmid\", \"zlower\", \"zupper\"])"
   ]
  },
  {
   "cell_type": "code",
   "execution_count": null,
   "id": "8ef1c0ef",
   "metadata": {
    "scrolled": false
   },
   "outputs": [],
   "source": [
    "ds_ocean"
   ]
  },
  {
   "cell_type": "code",
   "execution_count": null,
   "id": "11dcd1af",
   "metadata": {
    "scrolled": true
   },
   "outputs": [],
   "source": [
    "# timeseries for a scalar variable\n",
    "print(ds_ocean[\"O2_total\"])\n",
    "ds_ocean[\"O2_total\"].plot()"
   ]
  },
  {
   "cell_type": "code",
   "execution_count": null,
   "id": "853eb848",
   "metadata": {},
   "outputs": [],
   "source": [
    "# split dataset into columns (1 column only here so this could be skipped)\n",
    "cells_in_column = ds_ocean[\"cells_in_column\"]\n",
    "\n",
    "print(\"Icolumn comment:\", ds_ocean[\"Icolumns\"].attrs[\"comment\"]) # zero-based indices of cells from top to bottom ordered by columns\n",
    "Icolumns = ds_ocean[\"Icolumns\"].values\n",
    "\n",
    "ds_ocean_columns = []\n",
    "colstartidx = 0\n",
    "\n",
    "for cidx, clength in enumerate(cells_in_column.values):\n",
    "    ccells = Icolumns[np.arange(colstartidx, colstartidx + clength)]\n",
    "    ds_ocean_columns.append(ds_ocean.isel(cells=ccells, columns=cidx))\n",
    "    colstartidx += clength\n",
    "    \n"
   ]
  },
  {
   "cell_type": "code",
   "execution_count": null,
   "id": "68d49cf3",
   "metadata": {},
   "outputs": [],
   "source": [
    "ds_ocean_columns[0]"
   ]
  },
  {
   "cell_type": "code",
   "execution_count": null,
   "id": "47459078",
   "metadata": {},
   "outputs": [],
   "source": [
    "ds_ocean_columns[0].columnnames.values"
   ]
  },
  {
   "cell_type": "code",
   "execution_count": null,
   "id": "aae8816e",
   "metadata": {},
   "outputs": [],
   "source": [
    "print(ds_ocean_columns[0][\"P_conc\"])"
   ]
  },
  {
   "cell_type": "code",
   "execution_count": null,
   "id": "799531d6",
   "metadata": {},
   "outputs": [],
   "source": [
    "ds_ocean_columns[0][\"P_conc\"].dims"
   ]
  },
  {
   "cell_type": "code",
   "execution_count": null,
   "id": "bdc14198",
   "metadata": {},
   "outputs": [],
   "source": [
    "ds_ocean_columns[0][\"P_conc\"].coords"
   ]
  },
  {
   "cell_type": "code",
   "execution_count": null,
   "id": "dd95a3fa",
   "metadata": {},
   "outputs": [],
   "source": [
    "np.shape(ds_ocean_columns[0][\"P_conc\"].values)"
   ]
  },
  {
   "cell_type": "code",
   "execution_count": null,
   "id": "0e87c215",
   "metadata": {},
   "outputs": [],
   "source": [
    "ds_ocean_columns[0][\"P_conc\"].sel(tmodel=2.5).plot(y=\"zmid\")"
   ]
  }
 ],
 "metadata": {
  "kernelspec": {
   "display_name": "Python 3 (ipykernel)",
   "language": "python",
   "name": "python3"
  },
  "language_info": {
   "codemirror_mode": {
    "name": "ipython",
    "version": 3
   },
   "file_extension": ".py",
   "mimetype": "text/x-python",
   "name": "python",
   "nbconvert_exporter": "python",
   "pygments_lexer": "ipython3",
   "version": "3.10.14"
  }
 },
 "nbformat": 4,
 "nbformat_minor": 5
}
